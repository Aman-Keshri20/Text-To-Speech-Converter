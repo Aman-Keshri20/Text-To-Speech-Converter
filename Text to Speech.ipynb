{
 "cells": [
  {
   "cell_type": "code",
   "execution_count": 3,
   "id": "f89eef45",
   "metadata": {},
   "outputs": [
    {
     "name": "stdout",
     "output_type": "stream",
     "text": [
      "Speechtext86.mp3\n"
     ]
    }
   ],
   "source": [
    "from tkinter import *\n",
    "from gtts import gTTS\n",
    "from playsound import playsound\n",
    "import random\n",
    "import os\n",
    "\n",
    "root = Tk()\n",
    "root.geometry(\"950x700\") \n",
    "root.configure(bg='ghost white')\n",
    "root.title(\"TEXT TO SPEECH\")\n",
    "Label(root, text = \"TEXT_TO_SPEECH\", font = \"arial 22 bold\", bg='white smoke').pack()\n",
    "Label(text =\"DataFlair\", font = 'arial 15 bold', bg ='white smoke' , width = '20').pack(side = 'bottom')\n",
    "Msg = StringVar()\n",
    "Label(root,text =\"Enter Text\", font = 'arial 15 bold', bg ='white smoke').place(x=30,y=100)\n",
    "entry_field = Entry(root, textvariable = Msg, width =140)\n",
    "entry_field.pack(ipady=3)\n",
    "#entry_field = Text(root, textvariable = Msg ,height=40, width =140)\n",
    "entry_field.place(x = 40, y = 150,height=100)\n",
    "\n",
    "#creating a super random named file\n",
    "\n",
    "r1 = random.randint(1,100)\n",
    "\n",
    "randfile = \"Speechtext\"+str(r1) +\".mp3\"\n",
    "\n",
    "\n",
    "def Text_to_speech():\n",
    "    Message = entry_field.get()\n",
    "    speech = gTTS(text = Message, lang='en',slow='False')\n",
    "    speech.save(randfile)\n",
    "    playsound(randfile)\n",
    "    print(randfile)\n",
    "    os.remove(randfile)\n",
    "        \n",
    "    \n",
    "def Exit():\n",
    "    root.destroy()\n",
    "    \n",
    "def Reset():\n",
    "    Msg.set(\"\")\n",
    "    \n",
    "Button(root, text = \"PLAY\", font = 'arial 15 bold' , command = Text_to_speech ,width = '10', bg = 'LimeGreen').place(x=250,y=340)\n",
    "Button(root, font = 'arial 15 bold',text = 'EXIT', width = '10' , command = Exit, bg = 'OrangeRed1').place(x=580 , y = 340)\n",
    "Button(root, font = 'arial 15 bold',text = 'RESET', width = '12' , command = Reset).place(x=405 , y = 340)\n",
    "root.mainloop()\n"
   ]
  },
  {
   "cell_type": "code",
   "execution_count": null,
   "id": "bfcc6ac1",
   "metadata": {},
   "outputs": [],
   "source": []
  }
 ],
 "metadata": {
  "kernelspec": {
   "display_name": "Python 3 (ipykernel)",
   "language": "python",
   "name": "python3"
  },
  "language_info": {
   "codemirror_mode": {
    "name": "ipython",
    "version": 3
   },
   "file_extension": ".py",
   "mimetype": "text/x-python",
   "name": "python",
   "nbconvert_exporter": "python",
   "pygments_lexer": "ipython3",
   "version": "3.11.1"
  }
 },
 "nbformat": 4,
 "nbformat_minor": 5
}
