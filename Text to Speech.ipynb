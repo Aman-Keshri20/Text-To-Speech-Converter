{
 "cells": [
  {
   "cell_type": "code",
   "execution_count": 1,
   "id": "702b589f",
   "metadata": {},
   "outputs": [
    {
     "data": {
      "text/plain": [
       "11"
      ]
     },
     "execution_count": 1,
     "metadata": {},
     "output_type": "execute_result"
    }
   ],
   "source": [
    "11"
   ]
  },
  {
   "cell_type": "code",
   "execution_count": 4,
   "id": "864863cc",
   "metadata": {},
   "outputs": [
    {
     "name": "stdout",
     "output_type": "stream",
     "text": [
      "Requirement already satisfied: gTTs in c:\\users\\aman\\appdata\\local\\programs\\python\\python311\\lib\\site-packages (2.3.0)\n",
      "Requirement already satisfied: requests~=2.28.0 in c:\\users\\aman\\appdata\\local\\programs\\python\\python311\\lib\\site-packages (from gTTs) (2.28.1)\n",
      "Requirement already satisfied: click~=8.1.3 in c:\\users\\aman\\appdata\\local\\programs\\python\\python311\\lib\\site-packages (from gTTs) (8.1.3)\n",
      "Requirement already satisfied: six~=1.16.0 in c:\\users\\aman\\appdata\\local\\programs\\python\\python311\\lib\\site-packages (from gTTs) (1.16.0)\n",
      "Requirement already satisfied: colorama in c:\\users\\aman\\appdata\\local\\programs\\python\\python311\\lib\\site-packages (from click~=8.1.3->gTTs) (0.4.6)\n",
      "Requirement already satisfied: charset-normalizer<3,>=2 in c:\\users\\aman\\appdata\\local\\programs\\python\\python311\\lib\\site-packages (from requests~=2.28.0->gTTs) (2.1.1)\n",
      "Requirement already satisfied: idna<4,>=2.5 in c:\\users\\aman\\appdata\\local\\programs\\python\\python311\\lib\\site-packages (from requests~=2.28.0->gTTs) (3.4)\n",
      "Requirement already satisfied: urllib3<1.27,>=1.21.1 in c:\\users\\aman\\appdata\\local\\programs\\python\\python311\\lib\\site-packages (from requests~=2.28.0->gTTs) (1.26.13)\n",
      "Requirement already satisfied: certifi>=2017.4.17 in c:\\users\\aman\\appdata\\local\\programs\\python\\python311\\lib\\site-packages (from requests~=2.28.0->gTTs) (2022.12.7)\n",
      "Note: you may need to restart the kernel to use updated packages.\n"
     ]
    }
   ],
   "source": [
    "pip install gTTs"
   ]
  },
  {
   "cell_type": "code",
   "execution_count": 5,
   "id": "9a7e4486",
   "metadata": {},
   "outputs": [
    {
     "name": "stdout",
     "output_type": "stream",
     "text": [
      "Requirement already satisfied: playsound in c:\\users\\aman\\appdata\\local\\programs\\python\\python311\\lib\\site-packages (1.3.0)\n",
      "Note: you may need to restart the kernel to use updated packages.\n"
     ]
    }
   ],
   "source": [
    "pip install playsound"
   ]
  },
  {
   "cell_type": "code",
   "execution_count": 3,
   "id": "bda35703",
   "metadata": {},
   "outputs": [
    {
     "name": "stdout",
     "output_type": "stream",
     "text": [
      "Collecting playsound==1.2.2\n",
      "  Downloading playsound-1.2.2-py2.py3-none-any.whl (6.0 kB)\n",
      "Installing collected packages: playsound\n",
      "  Attempting uninstall: playsound\n",
      "    Found existing installation: playsound 1.3.0\n",
      "    Uninstalling playsound-1.3.0:\n",
      "      Successfully uninstalled playsound-1.3.0\n",
      "Successfully installed playsound-1.2.2\n",
      "Note: you may need to restart the kernel to use updated packages.\n"
     ]
    }
   ],
   "source": [
    "pip install playsound==1.2.2"
   ]
  },
  {
   "cell_type": "code",
   "execution_count": 86,
   "id": "f89eef45",
   "metadata": {},
   "outputs": [
    {
     "name": "stdout",
     "output_type": "stream",
     "text": [
      "Speechtext43.mp3\n",
      "Speechtext43.mp3\n"
     ]
    }
   ],
   "source": [
    "from tkinter import Text,Tk\n",
    "from gtts import gTTS\n",
    "from playsound import playsound\n",
    "import random\n",
    "import os\n",
    "\n",
    "root = Tk()\n",
    "root.geometry(\"950x700\") \n",
    "root.configure(bg='ghost white')\n",
    "root.title(\"TEXT TO SPEECH\")\n",
    "Label(root, text = \"TEXT_TO_SPEECH\", font = \"arial 22 bold\", bg='white smoke').pack()\n",
    "Label(text =\"DataFlair\", font = 'arial 15 bold', bg ='white smoke' , width = '20').pack(side = 'bottom')\n",
    "Msg = StringVar()\n",
    "Label(root,text =\"Enter Text\", font = 'arial 15 bold', bg ='white smoke').place(x=30,y=100)\n",
    "entry_field = Entry(root, textvariable = Msg, width =140)\n",
    "entry_field.pack(ipady=3)\n",
    "#entry_field = Text(root, textvariable = Msg ,height=40, width =140)\n",
    "entry_field.place(x = 40, y = 150,height=100)\n",
    "\n",
    "#creating a super random named file\n",
    "\n",
    "r1 = random.randint(1,100)\n",
    "\n",
    "randfile = \"Speechtext\"+str(r1) +\".mp3\"\n",
    "\n",
    "\n",
    "def Text_to_speech():\n",
    "    Message = entry_field.get()\n",
    "    speech = gTTS(text = Message, lang='en',slow='False')\n",
    "    speech.save(randfile)\n",
    "    playsound(randfile)\n",
    "    print(randfile)\n",
    "    os.remove(randfile)\n",
    "        \n",
    "    \n",
    "def Exit():\n",
    "    root.destroy()\n",
    "    \n",
    "def Reset():\n",
    "    Msg.set(\"\")\n",
    "    \n",
    "Button(root, text = \"PLAY\", font = 'arial 15 bold' , command = Text_to_speech ,width = '10', bg = 'LimeGreen').place(x=250,y=340)\n",
    "Button(root, font = 'arial 15 bold',text = 'EXIT', width = '10' , command = Exit, bg = 'OrangeRed1').place(x=580 , y = 340)\n",
    "Button(root, font = 'arial 15 bold',text = 'RESET', width = '12' , command = Reset).place(x=405 , y = 340)\n",
    "root.mainloop()\n"
   ]
  },
  {
   "cell_type": "code",
   "execution_count": null,
   "id": "81ecbb1e",
   "metadata": {},
   "outputs": [],
   "source": []
  },
  {
   "cell_type": "markdown",
   "id": "734c4fd3",
   "metadata": {},
   "source": []
  },
  {
   "cell_type": "code",
   "execution_count": null,
   "id": "411c4ca6",
   "metadata": {},
   "outputs": [],
   "source": []
  },
  {
   "cell_type": "code",
   "execution_count": null,
   "id": "1265a3fb",
   "metadata": {},
   "outputs": [],
   "source": []
  }
 ],
 "metadata": {
  "kernelspec": {
   "display_name": "Python 3 (ipykernel)",
   "language": "python",
   "name": "python3"
  },
  "language_info": {
   "codemirror_mode": {
    "name": "ipython",
    "version": 3
   },
   "file_extension": ".py",
   "mimetype": "text/x-python",
   "name": "python",
   "nbconvert_exporter": "python",
   "pygments_lexer": "ipython3",
   "version": "3.11.1"
  }
 },
 "nbformat": 4,
 "nbformat_minor": 5
}
